{
 "cells": [
  {
   "cell_type": "markdown",
   "metadata": {
    "pycharm": {
     "name": "#%% md\n"
    }
   },
   "source": [
    "# Домашнее задание 1"
   ]
  },
  {
   "cell_type": "code",
   "execution_count": 1,
   "metadata": {
    "pycharm": {
     "name": "#%%\n"
    }
   },
   "outputs": [
    {
     "ename": "ModuleNotFoundError",
     "evalue": "No module named 'numpy'",
     "output_type": "error",
     "traceback": [
      "\u001B[1;31m---------------------------------------------------------------------------\u001B[0m",
      "\u001B[1;31mModuleNotFoundError\u001B[0m                       Traceback (most recent call last)",
      "Input \u001B[1;32mIn [1]\u001B[0m, in \u001B[0;36m<cell line: 1>\u001B[1;34m()\u001B[0m\n\u001B[1;32m----> 1\u001B[0m \u001B[38;5;28;01mimport\u001B[39;00m \u001B[38;5;21;01mnumpy\u001B[39;00m \u001B[38;5;28;01mas\u001B[39;00m \u001B[38;5;21;01mnp\u001B[39;00m\n\u001B[0;32m      2\u001B[0m \u001B[38;5;28;01mimport\u001B[39;00m \u001B[38;5;21;01mpandas\u001B[39;00m \u001B[38;5;28;01mas\u001B[39;00m \u001B[38;5;21;01mpd\u001B[39;00m\n\u001B[0;32m      3\u001B[0m \u001B[38;5;28;01mimport\u001B[39;00m \u001B[38;5;21;01msklearn\u001B[39;00m\u001B[38;5;21;01m.\u001B[39;00m\u001B[38;5;21;01mlinear_model\u001B[39;00m \u001B[38;5;28;01mas\u001B[39;00m \u001B[38;5;21;01mslmodel\u001B[39;00m\n",
      "\u001B[1;31mModuleNotFoundError\u001B[0m: No module named 'numpy'"
     ]
    }
   ],
   "source": [
    "import numpy as np\n",
    "import pandas as pd\n",
    "import sklearn.linear_model as slmodel\n",
    "import matplotlib.pyplot as plt\n",
    "import statsmodels.api as sm"
   ]
  },
  {
   "cell_type": "code",
   "execution_count": 2,
   "metadata": {
    "scrolled": false,
    "pycharm": {
     "name": "#%%\n"
    }
   },
   "outputs": [
    {
     "data": {
      "text/html": [
       "<div>\n",
       "<style scoped>\n",
       "    .dataframe tbody tr th:only-of-type {\n",
       "        vertical-align: middle;\n",
       "    }\n",
       "\n",
       "    .dataframe tbody tr th {\n",
       "        vertical-align: top;\n",
       "    }\n",
       "\n",
       "    .dataframe thead th {\n",
       "        text-align: right;\n",
       "    }\n",
       "</style>\n",
       "<table border=\"1\" class=\"dataframe\">\n",
       "  <thead>\n",
       "    <tr style=\"text-align: right;\">\n",
       "      <th></th>\n",
       "      <th>Место</th>\n",
       "      <th>Клуб</th>\n",
       "      <th>Матчи</th>\n",
       "      <th>Победы</th>\n",
       "      <th>Ничьи</th>\n",
       "      <th>Поражения</th>\n",
       "      <th>Забито</th>\n",
       "      <th>Пропущено</th>\n",
       "      <th>Разница</th>\n",
       "      <th>Очки</th>\n",
       "    </tr>\n",
       "  </thead>\n",
       "  <tbody>\n",
       "    <tr>\n",
       "      <th>0</th>\n",
       "      <td>1</td>\n",
       "      <td>Спартак</td>\n",
       "      <td>30</td>\n",
       "      <td>16</td>\n",
       "      <td>10</td>\n",
       "      <td>4</td>\n",
       "      <td>51</td>\n",
       "      <td>30</td>\n",
       "      <td>21</td>\n",
       "      <td>58</td>\n",
       "    </tr>\n",
       "    <tr>\n",
       "      <th>1</th>\n",
       "      <td>2</td>\n",
       "      <td>Локомотив</td>\n",
       "      <td>30</td>\n",
       "      <td>16</td>\n",
       "      <td>9</td>\n",
       "      <td>5</td>\n",
       "      <td>53</td>\n",
       "      <td>22</td>\n",
       "      <td>31</td>\n",
       "      <td>57</td>\n",
       "    </tr>\n",
       "    <tr>\n",
       "      <th>2</th>\n",
       "      <td>3</td>\n",
       "      <td>Зенит</td>\n",
       "      <td>30</td>\n",
       "      <td>15</td>\n",
       "      <td>9</td>\n",
       "      <td>6</td>\n",
       "      <td>50</td>\n",
       "      <td>34</td>\n",
       "      <td>16</td>\n",
       "      <td>54</td>\n",
       "    </tr>\n",
       "    <tr>\n",
       "      <th>3</th>\n",
       "      <td>4</td>\n",
       "      <td>Торпедо</td>\n",
       "      <td>30</td>\n",
       "      <td>15</td>\n",
       "      <td>7</td>\n",
       "      <td>8</td>\n",
       "      <td>51</td>\n",
       "      <td>40</td>\n",
       "      <td>11</td>\n",
       "      <td>52</td>\n",
       "    </tr>\n",
       "    <tr>\n",
       "      <th>4</th>\n",
       "      <td>5</td>\n",
       "      <td>Крылья Советов</td>\n",
       "      <td>30</td>\n",
       "      <td>14</td>\n",
       "      <td>8</td>\n",
       "      <td>8</td>\n",
       "      <td>38</td>\n",
       "      <td>22</td>\n",
       "      <td>16</td>\n",
       "      <td>50</td>\n",
       "    </tr>\n",
       "  </tbody>\n",
       "</table>\n",
       "</div>"
      ],
      "text/plain": [
       "   Место            Клуб  Матчи  Победы  Ничьи  Поражения  Забито  Пропущено  \\\n",
       "0      1         Спартак     30      16     10          4      51         30   \n",
       "1      2       Локомотив     30      16      9          5      53         22   \n",
       "2      3           Зенит     30      15      9          6      50         34   \n",
       "3      4         Торпедо     30      15      7          8      51         40   \n",
       "4      5  Крылья Советов     30      14      8          8      38         22   \n",
       "\n",
       "   Разница  Очки  \n",
       "0       21    58  \n",
       "1       31    57  \n",
       "2       16    54  \n",
       "3       11    52  \n",
       "4       16    50  "
      ]
     },
     "execution_count": 2,
     "metadata": {},
     "output_type": "execute_result"
    }
   ],
   "source": [
    "table = pd.read_excel('RPL.xlsx', 'Лист1')\n",
    "table.head()"
   ]
  },
  {
   "cell_type": "markdown",
   "metadata": {
    "pycharm": {
     "name": "#%% md\n"
    }
   },
   "source": [
    "# Зависимость очков от забитых мячей"
   ]
  },
  {
   "cell_type": "code",
   "execution_count": 3,
   "metadata": {
    "pycharm": {
     "name": "#%%\n"
    }
   },
   "outputs": [],
   "source": [
    "x = table['Забито'].values.reshape(-1, 1)\n",
    "y = table.loc[:,'Очки'].values"
   ]
  },
  {
   "cell_type": "code",
   "execution_count": 4,
   "metadata": {
    "pycharm": {
     "name": "#%%\n"
    }
   },
   "outputs": [
    {
     "data": {
      "text/plain": [
       "(4.790171859179246, array([1.00390613]))"
      ]
     },
     "execution_count": 4,
     "metadata": {},
     "output_type": "execute_result"
    }
   ],
   "source": [
    "model = slmodel.LinearRegression()\n",
    "model.fit(x, y)\n",
    "model.intercept_, model.coef_"
   ]
  },
  {
   "cell_type": "code",
   "execution_count": 5,
   "metadata": {
    "scrolled": false,
    "pycharm": {
     "name": "#%%\n"
    }
   },
   "outputs": [
    {
     "data": {
      "image/png": "[encoded data removed]",
      "text/plain": [
       "<Figure size 432x288 with 1 Axes>"
      ]
     },
     "metadata": {
      "needs_background": "light"
     },
     "output_type": "display_data"
    }
   ],
   "source": [
    "plt.scatter(table['Забито'], table['Очки'])\n",
    "x1 = [model.coef_[0] * x + model.intercept_ for x in table['Забито'].values]\n",
    "plt.plot([*table['Забито'].values], x1 , label = 'Прогнозная прямая')\n",
    "plt.xlabel('Забито мячей')\n",
    "plt.ylabel('Набрано очков')\n",
    "plt.show()"
   ]
  },
  {
   "cell_type": "markdown",
   "metadata": {
    "pycharm": {
     "name": "#%% md\n"
    }
   },
   "source": [
    "# Зависимость от забитых и пропущенных"
   ]
  },
  {
   "cell_type": "code",
   "execution_count": 6,
   "metadata": {
    "pycharm": {
     "name": "#%%\n"
    }
   },
   "outputs": [],
   "source": [
    "x = table[['Забито', 'Пропущено']].values\n",
    "y = table.loc[:,'Очки'].values"
   ]
  },
  {
   "cell_type": "code",
   "execution_count": 7,
   "metadata": {
    "scrolled": true,
    "pycharm": {
     "name": "#%%\n"
    }
   },
   "outputs": [
    {
     "data": {
      "text/plain": [
       "(24.24550869862535, array([ 0.88421478, -0.40794739]))"
      ]
     },
     "execution_count": 7,
     "metadata": {},
     "output_type": "execute_result"
    }
   ],
   "source": [
    "model = slmodel.LinearRegression()\n",
    "model.fit(x, y)\n",
    "model.intercept_, model.coef_"
   ]
  },
  {
   "cell_type": "code",
   "execution_count": 8,
   "metadata": {
    "pycharm": {
     "name": "#%%\n"
    }
   },
   "outputs": [
    {
     "data": {
      "text/plain": [
       "(304, 2)"
      ]
     },
     "execution_count": 8,
     "metadata": {},
     "output_type": "execute_result"
    }
   ],
   "source": [
    "x.shape"
   ]
  },
  {
   "cell_type": "code",
   "execution_count": 9,
   "metadata": {
    "scrolled": true,
    "pycharm": {
     "name": "#%%\n"
    }
   },
   "outputs": [
    {
     "data": {
      "image/png": "[encoded data removed]",
      "text/plain": [
       "<Figure size 432x288 with 1 Axes>"
      ]
     },
     "metadata": {
      "needs_background": "light"
     },
     "output_type": "display_data"
    }
   ],
   "source": [
    "x = table['Забито'].values\n",
    "y = table['Пропущено'].values\n",
    "z = y\n",
    "s = 20\n",
    "fig = plt.figure()\n",
    "ax = fig.add_subplot(111, projection='3d')\n",
    "plt.xlabel('Забито мячей')\n",
    "plt.ylabel('Пропущено мячей')\n",
    "#plt.zlabel('Набрано очков')\n",
    "ax.scatter(x, y, z, s=s)\n",
    "\n",
    "#ax = fig.add_subplot(111, projection='3d')\n",
    "x1 = [model.coef_[0] * x[0] + model.coef_[0] * x[1] + model.intercept_ for x in table[['Забито', 'Пропущено']].values]\n",
    "#ax.plot(x, x1, label='parametric curve')"
   ]
  },
  {
   "cell_type": "markdown",
   "metadata": {
    "pycharm": {
     "name": "#%% md\n"
    }
   },
   "source": [
    "# Домашнее задание 2"
   ]
  },
  {
   "cell_type": "markdown",
   "metadata": {
    "pycharm": {
     "name": "#%% md\n"
    }
   },
   "source": [
    "## Доверительный интервал для первого коэффициента"
   ]
  },
  {
   "cell_type": "code",
   "execution_count": 10,
   "metadata": {
    "pycharm": {
     "name": "#%%\n"
    }
   },
   "outputs": [
    {
     "name": "stdout",
     "output_type": "stream",
     "text": [
      "0.8526031776629841 0.9158263808514648\n"
     ]
    }
   ],
   "source": [
    "from math import sqrt\n",
    "from scipy import stats\n",
    "\n",
    "x = table[['Забито', 'Пропущено']].values\n",
    "y = table.loc[:,'Очки'].values\n",
    "\n",
    "model = slmodel.LinearRegression()\n",
    "model.fit(x, y)\n",
    "model.intercept_, model.coef_\n",
    "\n",
    "t_c = stats.t.ppf(1-0.05/2, 302)\n",
    "e = y - model.predict(x)\n",
    "s_b2 = sqrt(np.transpose(e).dot(e)*(np.linalg.inv((np.transpose(x).dot(x)))[0,0])/302)\n",
    "t_lower = model.coef_[0] - t_c*s_b2\n",
    "t_upper = model.coef_[0] + t_c*s_b2\n",
    "print(t_lower, t_upper)"
   ]
  },
  {
   "cell_type": "markdown",
   "metadata": {
    "pycharm": {
     "name": "#%% md\n"
    }
   },
   "source": [
    "## Проверка гипотезы, что один из коэффициентов равен нулю"
   ]
  },
  {
   "cell_type": "code",
   "execution_count": 11,
   "metadata": {
    "pycharm": {
     "name": "#%%\n"
    }
   },
   "outputs": [
    {
     "data": {
      "text/plain": [
       "True"
      ]
     },
     "execution_count": 11,
     "metadata": {},
     "output_type": "execute_result"
    }
   ],
   "source": [
    "model.coef_[0]/s_b2 - t_c > 0"
   ]
  },
  {
   "cell_type": "markdown",
   "metadata": {
    "pycharm": {
     "name": "#%% md\n"
    }
   },
   "source": [
    "Получаем, что на уровне значимости $\\alpha = 0.05$ гипотезу отвергаем, так как выполнено неравенство $|t| = \\frac{\\hat{\\beta}_{1}}{s_{\\hat{\\beta_1}}} > t_c$ "
   ]
  },
  {
   "cell_type": "markdown",
   "metadata": {
    "pycharm": {
     "name": "#%% md\n"
    }
   },
   "source": [
    "## Доверительный интервал для $\\sigma^2$"
   ]
  },
  {
   "cell_type": "code",
   "execution_count": 12,
   "metadata": {
    "pycharm": {
     "name": "#%%\n"
    }
   },
   "outputs": [
    {
     "name": "stdout",
     "output_type": "stream",
     "text": [
      "24.024256668860865 28.450770658979412\n"
     ]
    }
   ],
   "source": [
    "s2 = np.transpose(e).dot(e)/302\n",
    "t_upper = 302*s2/stats.chi2.ppf(0.05/2, 302)\n",
    "t_lower = 302*s2/stats.chi2.ppf(1-0.95/2, 302)\n",
    "print(t_lower, t_upper)"
   ]
  },
  {
   "cell_type": "markdown",
   "metadata": {
    "pycharm": {
     "name": "#%% md\n"
    }
   },
   "source": [
    "# Задача 3.5"
   ]
  },
  {
   "cell_type": "markdown",
   "metadata": {
    "pycharm": {
     "name": "#%% md\n"
    }
   },
   "source": [
    "# Домашнее задание 1"
   ]
  },
  {
   "cell_type": "code",
   "execution_count": 13,
   "metadata": {
    "pycharm": {
     "name": "#%%\n"
    }
   },
   "outputs": [
    {
     "data": {
      "text/html": [
       "<div>\n",
       "<style scoped>\n",
       "    .dataframe tbody tr th:only-of-type {\n",
       "        vertical-align: middle;\n",
       "    }\n",
       "\n",
       "    .dataframe tbody tr th {\n",
       "        vertical-align: top;\n",
       "    }\n",
       "\n",
       "    .dataframe thead th {\n",
       "        text-align: right;\n",
       "    }\n",
       "</style>\n",
       "<table border=\"1\" class=\"dataframe\">\n",
       "  <thead>\n",
       "    <tr style=\"text-align: right;\">\n",
       "      <th></th>\n",
       "      <th>S</th>\n",
       "      <th>Y</th>\n",
       "      <th>W</th>\n",
       "    </tr>\n",
       "  </thead>\n",
       "  <tbody>\n",
       "    <tr>\n",
       "      <th>0</th>\n",
       "      <td>3.0</td>\n",
       "      <td>40</td>\n",
       "      <td>60</td>\n",
       "    </tr>\n",
       "    <tr>\n",
       "      <th>1</th>\n",
       "      <td>6.0</td>\n",
       "      <td>55</td>\n",
       "      <td>36</td>\n",
       "    </tr>\n",
       "    <tr>\n",
       "      <th>2</th>\n",
       "      <td>5.0</td>\n",
       "      <td>45</td>\n",
       "      <td>36</td>\n",
       "    </tr>\n",
       "    <tr>\n",
       "      <th>3</th>\n",
       "      <td>3.5</td>\n",
       "      <td>30</td>\n",
       "      <td>15</td>\n",
       "    </tr>\n",
       "    <tr>\n",
       "      <th>4</th>\n",
       "      <td>1.5</td>\n",
       "      <td>30</td>\n",
       "      <td>90</td>\n",
       "    </tr>\n",
       "  </tbody>\n",
       "</table>\n",
       "</div>"
      ],
      "text/plain": [
       "     S   Y   W\n",
       "0  3.0  40  60\n",
       "1  6.0  55  36\n",
       "2  5.0  45  36\n",
       "3  3.5  30  15\n",
       "4  1.5  30  90"
      ]
     },
     "execution_count": 13,
     "metadata": {},
     "output_type": "execute_result"
    }
   ],
   "source": [
    "zadacha = {\n",
    "    \"S\":pd.Series([3, 6, 5, 3.5, 1.5]),\n",
    "    \"Y\":pd.Series([40, 55, 45, 30, 30]),\n",
    "    \"W\":pd.Series([60, 36, 36, 15, 90])\n",
    "}\n",
    "zad = pd.DataFrame(zadacha)\n",
    "zad"
   ]
  },
  {
   "cell_type": "code",
   "execution_count": 14,
   "metadata": {
    "pycharm": {
     "name": "#%%\n"
    }
   },
   "outputs": [
    {
     "data": {
      "text/plain": [
       "(0.2787386557937661, array([ 0.12287913, -0.02940725]))"
      ]
     },
     "execution_count": 14,
     "metadata": {},
     "output_type": "execute_result"
    }
   ],
   "source": [
    "x = zad.iloc[:,1:]\n",
    "y = zad.iloc[:,0]\n",
    "\n",
    "model_zad = slmodel.LinearRegression()\n",
    "model_zad.fit(x, y)\n",
    "model_zad.intercept_, model_zad.coef_"
   ]
  },
  {
   "cell_type": "code",
   "execution_count": 15,
   "metadata": {
    "pycharm": {
     "name": "#%%\n"
    }
   },
   "outputs": [
    {
     "name": "stdout",
     "output_type": "stream",
     "text": [
      "Прогноз б пункта: 4.45872243412688\n"
     ]
    }
   ],
   "source": [
    "a = 40\n",
    "b = 25\n",
    "print('Прогноз б пункта:', model_zad.coef_[0]*a + model_zad.coef_[1]*b + model_zad.intercept_)"
   ]
  },
  {
   "cell_type": "code",
   "execution_count": 16,
   "metadata": {
    "pycharm": {
     "name": "#%%\n"
    }
   },
   "outputs": [
    {
     "name": "stdout",
     "output_type": "stream",
     "text": [
      "Оценка пунтка в: 1.2287912666052874\n"
     ]
    }
   ],
   "source": [
    "delta = 10 \n",
    "print('Оценка пунтка в:', model_zad.coef_[0]*delta)"
   ]
  },
  {
   "cell_type": "code",
   "execution_count": 17,
   "metadata": {
    "pycharm": {
     "name": "#%%\n"
    }
   },
   "outputs": [
    {
     "name": "stdout",
     "output_type": "stream",
     "text": [
      "Оцеонка г пункта: 0.17328686044982222\n"
     ]
    }
   ],
   "source": [
    "delta1 = 5\n",
    "delta2 = 15\n",
    "print('Оцеонка г пункта:', model_zad.coef_[0]*delta1 + model_zad.coef_[1]*delta2)"
   ]
  },
  {
   "cell_type": "markdown",
   "metadata": {
    "pycharm": {
     "name": "#%% md\n"
    }
   },
   "source": [
    "## Последний пункт"
   ]
  },
  {
   "cell_type": "code",
   "execution_count": 18,
   "metadata": {
    "pycharm": {
     "name": "#%%\n"
    }
   },
   "outputs": [
    {
     "data": {
      "text/html": [
       "<div>\n",
       "<style scoped>\n",
       "    .dataframe tbody tr th:only-of-type {\n",
       "        vertical-align: middle;\n",
       "    }\n",
       "\n",
       "    .dataframe tbody tr th {\n",
       "        vertical-align: top;\n",
       "    }\n",
       "\n",
       "    .dataframe thead th {\n",
       "        text-align: right;\n",
       "    }\n",
       "</style>\n",
       "<table border=\"1\" class=\"dataframe\">\n",
       "  <thead>\n",
       "    <tr style=\"text-align: right;\">\n",
       "      <th></th>\n",
       "      <th>S</th>\n",
       "      <th>Y</th>\n",
       "      <th>W</th>\n",
       "      <th>model</th>\n",
       "      <th>error</th>\n",
       "    </tr>\n",
       "  </thead>\n",
       "  <tbody>\n",
       "    <tr>\n",
       "      <th>0</th>\n",
       "      <td>3.0</td>\n",
       "      <td>40</td>\n",
       "      <td>60</td>\n",
       "      <td>3.429469</td>\n",
       "      <td>-0.429469</td>\n",
       "    </tr>\n",
       "    <tr>\n",
       "      <th>1</th>\n",
       "      <td>6.0</td>\n",
       "      <td>55</td>\n",
       "      <td>36</td>\n",
       "      <td>5.978430</td>\n",
       "      <td>0.021570</td>\n",
       "    </tr>\n",
       "    <tr>\n",
       "      <th>2</th>\n",
       "      <td>5.0</td>\n",
       "      <td>45</td>\n",
       "      <td>36</td>\n",
       "      <td>4.749638</td>\n",
       "      <td>0.250362</td>\n",
       "    </tr>\n",
       "    <tr>\n",
       "      <th>3</th>\n",
       "      <td>3.5</td>\n",
       "      <td>30</td>\n",
       "      <td>15</td>\n",
       "      <td>3.524004</td>\n",
       "      <td>-0.024004</td>\n",
       "    </tr>\n",
       "    <tr>\n",
       "      <th>4</th>\n",
       "      <td>1.5</td>\n",
       "      <td>30</td>\n",
       "      <td>90</td>\n",
       "      <td>1.318460</td>\n",
       "      <td>0.181540</td>\n",
       "    </tr>\n",
       "  </tbody>\n",
       "</table>\n",
       "</div>"
      ],
      "text/plain": [
       "     S   Y   W     model     error\n",
       "0  3.0  40  60  3.429469 -0.429469\n",
       "1  6.0  55  36  5.978430  0.021570\n",
       "2  5.0  45  36  4.749638  0.250362\n",
       "3  3.5  30  15  3.524004 -0.024004\n",
       "4  1.5  30  90  1.318460  0.181540"
      ]
     },
     "execution_count": 18,
     "metadata": {},
     "output_type": "execute_result"
    }
   ],
   "source": [
    "zad['model'] = model_zad.coef_[0]*zad.Y + model_zad.coef_[1]*zad.W + model_zad.intercept_\n",
    "zad['error'] = zad.S - zad.model\n",
    "zad"
   ]
  },
  {
   "cell_type": "code",
   "execution_count": 19,
   "metadata": {
    "pycharm": {
     "name": "#%%\n"
    }
   },
   "outputs": [],
   "source": [
    "import statistics"
   ]
  },
  {
   "cell_type": "code",
   "execution_count": 20,
   "metadata": {
    "pycharm": {
     "name": "#%%\n"
    }
   },
   "outputs": [
    {
     "data": {
      "text/plain": [
       "0.07028064579771125"
      ]
     },
     "execution_count": 20,
     "metadata": {},
     "output_type": "execute_result"
    }
   ],
   "source": [
    "statistics.variance(zad.error)"
   ]
  },
  {
   "cell_type": "code",
   "execution_count": 21,
   "metadata": {
    "pycharm": {
     "name": "#%%\n"
    }
   },
   "outputs": [
    {
     "data": {
      "text/plain": [
       "0.056224516638169006"
      ]
     },
     "execution_count": 21,
     "metadata": {},
     "output_type": "execute_result"
    }
   ],
   "source": [
    "((zad.error)**2).mean()"
   ]
  },
  {
   "cell_type": "markdown",
   "metadata": {
    "pycharm": {
     "name": "#%% md\n"
    }
   },
   "source": [
    "# Домашнее задание 2"
   ]
  },
  {
   "cell_type": "code",
   "execution_count": 22,
   "metadata": {
    "pycharm": {
     "name": "#%%\n"
    }
   },
   "outputs": [],
   "source": [
    "zadacha = {\n",
    "    \"S\":pd.Series([3, 6, 5, 3.5, 1.5]),\n",
    "    \"Y\":pd.Series([40, 55, 45, 30, 30]),\n",
    "    \"W\":pd.Series([60, 36, 36, 15, 90])\n",
    "}\n",
    "zad = pd.DataFrame(zadacha)\n",
    "\n",
    "x = zad.iloc[:,1:]\n",
    "y = zad.iloc[:,0]"
   ]
  },
  {
   "cell_type": "code",
   "execution_count": 23,
   "metadata": {
    "pycharm": {
     "name": "#%%\n"
    }
   },
   "outputs": [],
   "source": [
    "def mat(H, x, beta): \n",
    "    return H.T@np.linalg.inv((H@np.linalg.inv((x.T@x))@H.T))@H"
   ]
  },
  {
   "cell_type": "markdown",
   "metadata": {
    "pycharm": {
     "name": "#%% md\n"
    }
   },
   "source": [
    "## Пункт а"
   ]
  },
  {
   "cell_type": "markdown",
   "metadata": {
    "pycharm": {
     "name": "#%% md\n"
    }
   },
   "source": [
    "### Пункт 1)"
   ]
  },
  {
   "cell_type": "code",
   "execution_count": 24,
   "metadata": {
    "pycharm": {
     "name": "#%%\n"
    }
   },
   "outputs": [
    {
     "name": "stdout",
     "output_type": "stream",
     "text": [
      "0.18741505546056336 , [[ 8450.  9150.]\n",
      " [ 9150. 14517.]]\n"
     ]
    }
   ],
   "source": [
    "H = np.array([[1, 0], [0, 1]])\n",
    "x = zad.iloc[:,1:]\n",
    "model.fit(x, y)\n",
    "\n",
    "A = mat(H, x, model.coef_)\n",
    "e = y - model.predict(x)\n",
    "c = (e.T@e)*2/3\n",
    "print(c, \",\",A)"
   ]
  },
  {
   "cell_type": "markdown",
   "metadata": {
    "pycharm": {
     "name": "#%% md\n"
    }
   },
   "source": [
    "$(\\hat{\\beta} - \\beta)'A (\\hat{\\beta} - \\beta) \\in [0; 19.16\\cdot c],$, где $19.16$ - квантиль уровня $0.05$ у $F_{2,3}$."
   ]
  },
  {
   "cell_type": "markdown",
   "metadata": {
    "pycharm": {
     "name": "#%% md\n"
    }
   },
   "source": [
    "### Пункт 2)"
   ]
  },
  {
   "cell_type": "code",
   "execution_count": 25,
   "metadata": {
    "pycharm": {
     "name": "#%%\n"
    }
   },
   "outputs": [
    {
     "data": {
      "text/plain": [
       "LinearRegression()"
      ]
     },
     "execution_count": 25,
     "metadata": {},
     "output_type": "execute_result"
    }
   ],
   "source": [
    "H = np.array([[ 1, 0]])\n",
    "x = zad.iloc[:,1:]\n",
    "model.fit(x, y)"
   ]
  },
  {
   "cell_type": "code",
   "execution_count": 26,
   "metadata": {
    "pycharm": {
     "name": "#%%\n"
    }
   },
   "outputs": [
    {
     "name": "stdout",
     "output_type": "stream",
     "text": [
      "0.09370752773028168 , [[2682.79603224    0.        ]\n",
      " [   0.            0.        ]]\n",
      "Интеравл:  -0.029920601681875606 -0.028893901365167254\n"
     ]
    }
   ],
   "source": [
    "A = mat(H, x, model.coef_)\n",
    "e = y - model.predict(x)\n",
    "c = (e.T@e)*1/3\n",
    "print(c, \",\",A)\n",
    "\n",
    "\n",
    "t_upper = model.coef_[1] + sqrt(216)*c/A[0,0]\n",
    "t_lower = model.coef_[1] - sqrt(216)*c/A[0,0]\n",
    "print(\"Интеравл: \",t_lower, t_upper)"
   ]
  },
  {
   "cell_type": "code",
   "execution_count": 27,
   "metadata": {
    "pycharm": {
     "name": "#%%\n"
    }
   },
   "outputs": [
    {
     "data": {
      "text/plain": [
       "-0.02940725152352143"
      ]
     },
     "execution_count": 27,
     "metadata": {},
     "output_type": "execute_result"
    }
   ],
   "source": [
    "model.coef_[1]"
   ]
  },
  {
   "cell_type": "markdown",
   "metadata": {
    "pycharm": {
     "name": "#%% md\n"
    }
   },
   "source": [
    "### Пункт 3)"
   ]
  },
  {
   "cell_type": "code",
   "execution_count": 28,
   "metadata": {
    "pycharm": {
     "name": "#%%\n"
    }
   },
   "outputs": [
    {
     "data": {
      "text/plain": [
       "LinearRegression()"
      ]
     },
     "execution_count": 28,
     "metadata": {},
     "output_type": "execute_result"
    }
   ],
   "source": [
    "H = np.array([[ 0, 1]])\n",
    "x = zad.iloc[:,1:]\n",
    "model.fit(x, y)"
   ]
  },
  {
   "cell_type": "code",
   "execution_count": 29,
   "metadata": {
    "pycharm": {
     "name": "#%%\n"
    }
   },
   "outputs": [
    {
     "name": "stdout",
     "output_type": "stream",
     "text": [
      "0.09370752773028168 , [[   0.            0.        ]\n",
      " [   0.         4609.01183432]]\n",
      "Интеравл:  -0.029706060426055895 -0.029108442620986965\n"
     ]
    }
   ],
   "source": [
    "A = mat(H, x, model.coef_)\n",
    "e = y - model.predict(x)\n",
    "c = (e.T@e)*1/3\n",
    "print(c, \",\",A)\n",
    "\n",
    "\n",
    "t_upper = model.coef_[1] + sqrt(216)*c/A[1,1]\n",
    "t_lower = model.coef_[1] - sqrt(216)*c/A[1,1]\n",
    "print(\"Интеравл: \",t_lower, t_upper)"
   ]
  },
  {
   "cell_type": "markdown",
   "metadata": {
    "pycharm": {
     "name": "#%% md\n"
    }
   },
   "source": [
    "### Пункт 4)"
   ]
  },
  {
   "cell_type": "code",
   "execution_count": 30,
   "metadata": {
    "pycharm": {
     "name": "#%%\n"
    }
   },
   "outputs": [
    {
     "data": {
      "text/plain": [
       "LinearRegression()"
      ]
     },
     "execution_count": 30,
     "metadata": {},
     "output_type": "execute_result"
    }
   ],
   "source": [
    "H = np.array([[1, 0, 0], [0, 1, 0]])\n",
    "a = np.array([[1], [1], [1], [1], [1]])\n",
    "x = zad.iloc[:,1:]\n",
    "x = np.hstack((a, x))\n",
    "model.fit(x, y)"
   ]
  },
  {
   "cell_type": "code",
   "execution_count": 31,
   "metadata": {
    "pycharm": {
     "name": "#%%\n"
    }
   },
   "outputs": [
    {
     "name": "stdout",
     "output_type": "stream",
     "text": [
      "0.18741505546056414 , [[1.13081215e+00 5.06199628e+01 0.00000000e+00]\n",
      " [5.06199628e+01 2.68279603e+03 0.00000000e+00]\n",
      " [0.00000000e+00 0.00000000e+00 0.00000000e+00]]\n"
     ]
    }
   ],
   "source": [
    "A = mat(H, x, model.coef_)\n",
    "e = y - model.predict(x)\n",
    "c = (e.T@e)*2/3\n",
    "print(c, \",\",A)"
   ]
  },
  {
   "cell_type": "markdown",
   "metadata": {
    "pycharm": {
     "name": "#%% md\n"
    }
   },
   "source": [
    "$(\\hat{\\beta} - \\beta)'A (\\hat{\\beta} - \\beta) \\in [0; 19.16\\cdot c],$, где $19.16$ - квантиль уровня $0.05$ у $F_{2,3}$."
   ]
  },
  {
   "cell_type": "markdown",
   "metadata": {
    "pycharm": {
     "name": "#%% md\n"
    }
   },
   "source": [
    "## Пункт б"
   ]
  },
  {
   "cell_type": "markdown",
   "metadata": {
    "pycharm": {
     "name": "#%% md\n"
    }
   },
   "source": [
    "### Пункт 1)"
   ]
  },
  {
   "cell_type": "code",
   "execution_count": 32,
   "metadata": {
    "pycharm": {
     "name": "#%%\n"
    }
   },
   "outputs": [
    {
     "name": "stdout",
     "output_type": "stream",
     "text": [
      "0.18741505546056336 , [[ 8450.  9150.]\n",
      " [ 9150. 14517.]]\n",
      "74.01528468781467 40.48165197948168\n"
     ]
    }
   ],
   "source": [
    "H = np.array([[ 1, 0], [ 0, 1]])\n",
    "x = zad.iloc[:,1:]\n",
    "model.fit(x, y)\n",
    "A = mat(H, x, model.coef_)\n",
    "e = y - model.predict(x)\n",
    "c = (e.T@e)*2/3\n",
    "print(c, ',', A)\n",
    "\n",
    "print(model.coef_.T@A@model.coef_, 216*c)"
   ]
  },
  {
   "cell_type": "markdown",
   "metadata": {
    "pycharm": {
     "name": "#%% md\n"
    }
   },
   "source": [
    "Гипотеза отвергается на уровне значимости $\\alpha = 0.05$."
   ]
  },
  {
   "cell_type": "markdown",
   "metadata": {
    "pycharm": {
     "name": "#%% md\n"
    }
   },
   "source": [
    "### Пункт 2)"
   ]
  },
  {
   "cell_type": "code",
   "execution_count": 33,
   "metadata": {
    "pycharm": {
     "name": "#%%\n"
    }
   },
   "outputs": [
    {
     "name": "stdout",
     "output_type": "stream",
     "text": [
      "0.09370752773028168 , [[   0.            0.        ]\n",
      " [   0.         4609.01183432]]\n",
      "3.985810946109794 20.24082598974084\n"
     ]
    }
   ],
   "source": [
    "H = np.array([[ 0, 1]])\n",
    "x = zad.iloc[:,1:]\n",
    "model.fit(x, y)\n",
    "A = mat(H, x, model.coef_)\n",
    "e = y - model.predict(x)\n",
    "c = (e.T@e)*1/3\n",
    "print(c, ',', A)\n",
    "\n",
    "print(model.coef_.T@A@model.coef_, 216*c)"
   ]
  },
  {
   "cell_type": "markdown",
   "metadata": {
    "pycharm": {
     "name": "#%% md\n"
    }
   },
   "source": [
    "Гипотеза не противоречит"
   ]
  },
  {
   "cell_type": "markdown",
   "metadata": {
    "pycharm": {
     "name": "#%% md\n"
    }
   },
   "source": [
    "### Пункт 3)"
   ]
  },
  {
   "cell_type": "code",
   "execution_count": 34,
   "metadata": {
    "pycharm": {
     "name": "#%%\n"
    }
   },
   "outputs": [
    {
     "name": "stdout",
     "output_type": "stream",
     "text": [
      "0.09370752773028168 , [[2682.79603224    0.        ]\n",
      " [   0.            0.        ]]\n",
      "40.50828785353473 20.24082598974084\n"
     ]
    }
   ],
   "source": [
    "H = np.array([[ 1, 0]])\n",
    "x = zad.iloc[:,1:]\n",
    "model.fit(x, y)\n",
    "A = mat(H, x, model.coef_)\n",
    "e = y - model.predict(x)\n",
    "c = (e.T@e)*1/3\n",
    "print(c, ',', A)\n",
    "\n",
    "print(model.coef_.T@A@model.coef_, 216*c)"
   ]
  },
  {
   "cell_type": "markdown",
   "metadata": {
    "pycharm": {
     "name": "#%% md\n"
    }
   },
   "source": [
    "### Пункт 4)"
   ]
  },
  {
   "cell_type": "code",
   "execution_count": 35,
   "metadata": {
    "pycharm": {
     "name": "#%%\n"
    }
   },
   "outputs": [
    {
     "name": "stdout",
     "output_type": "stream",
     "text": [
      "0.09370752773028168 , [[2682.79603224    0.        ]\n",
      " [   0.            0.        ]]\n",
      "2063.98505319211 20.24082598974084\n"
     ]
    }
   ],
   "source": [
    "H = np.array([[ 1, 0]])\n",
    "x = zad.iloc[:,1:]\n",
    "model.fit(x, y)\n",
    "A = mat(H, x, model.coef_)\n",
    "e = y - model.predict(x)\n",
    "c = (e.T@e)*1/3\n",
    "print(c, ',', A)\n",
    "\n",
    "coef = model.coef_ - [1, 0]\n",
    "\n",
    "print(coef.T@A@coef, 216*c)"
   ]
  },
  {
   "cell_type": "markdown",
   "metadata": {
    "pycharm": {
     "name": "#%% md\n"
    }
   },
   "source": [
    "Гипотеза отвергается на уровне значимости $\\alpha = 0.05$."
   ]
  },
  {
   "cell_type": "markdown",
   "metadata": {
    "pycharm": {
     "name": "#%% md\n"
    }
   },
   "source": [
    "### Пункт 5)"
   ]
  },
  {
   "cell_type": "code",
   "execution_count": 36,
   "metadata": {
    "pycharm": {
     "name": "#%%\n"
    }
   },
   "outputs": [
    {
     "name": "stdout",
     "output_type": "stream",
     "text": [
      "0.09370752773028168 , [[2682.79603224    0.        ]\n",
      " [   0.            0.        ]]\n",
      "5618.200978684944 20.24082598974084\n"
     ]
    }
   ],
   "source": [
    "H = np.array([[1, 0]])\n",
    "x = zad.iloc[:,1:]\n",
    "model.fit(x, y)\n",
    "A = mat(H, x, model.coef_)\n",
    "e = y - model.predict(x)\n",
    "c = (e.T@e)*1/3\n",
    "print(c, ',', A)\n",
    "\n",
    "coef = model.coef_ - [1.57, 0]\n",
    "\n",
    "print(coef.T@A@coef, 216*c)"
   ]
  },
  {
   "cell_type": "markdown",
   "metadata": {
    "pycharm": {
     "name": "#%% md\n"
    }
   },
   "source": [
    "Гипотеза отвергается на уровне значимости $\\alpha = 0.05$."
   ]
  },
  {
   "cell_type": "markdown",
   "metadata": {
    "pycharm": {
     "name": "#%% md\n"
    }
   },
   "source": [
    "### Пункт 6)"
   ]
  },
  {
   "cell_type": "code",
   "execution_count": 37,
   "metadata": {
    "pycharm": {
     "name": "#%%\n"
    }
   },
   "outputs": [
    {
     "name": "stdout",
     "output_type": "stream",
     "text": [
      "0.09370752773028168 , [[ 122.75512423 -613.77562116]\n",
      " [-613.77562116 3068.87810582]]\n"
     ]
    }
   ],
   "source": [
    "H = np.array([[ 1, -5]])\n",
    "x = zad.iloc[:,1:]\n",
    "model.fit(x, y)\n",
    "A = mat(H, x, model.coef_)\n",
    "e = y - model.predict(x)\n",
    "c = (e.T@e)*1/3\n",
    "print(c, ',', A)"
   ]
  },
  {
   "cell_type": "markdown",
   "metadata": {
    "pycharm": {
     "name": "#%% md\n"
    }
   },
   "source": [
    "Найдем значение, которое дает минимум выражения $(\\hat{\\beta} - \\beta)'A (\\hat{\\beta} - \\beta)$."
   ]
  },
  {
   "cell_type": "code",
   "execution_count": 38,
   "metadata": {
    "pycharm": {
     "name": "#%%\n"
    }
   },
   "outputs": [
    {
     "name": "stdout",
     "output_type": "stream",
     "text": [
      "35.7729617928818 1.795436231312197\n"
     ]
    }
   ],
   "source": [
    "x = (-model.coef_[0]*(A[0,0]+A[1,0]) - model.coef_[1]*(A[0,1]+A[1,1]))/((A[0,0]+A[1,0]) -5*(A[0,1]+A[1,1]))\n",
    "coef = model.coef_ - [ x, -5*x]\n",
    "print(coef.T@A@coef, 19.16*c)"
   ]
  },
  {
   "cell_type": "markdown",
   "metadata": {
    "pycharm": {
     "name": "#%% md\n"
    }
   },
   "source": [
    "Даже при минимизированой статистике, гипотеза отвергается на уровне значимости $\\alpha = 0.05$."
   ]
  },
  {
   "cell_type": "markdown",
   "metadata": {
    "pycharm": {
     "name": "#%% md\n"
    }
   },
   "source": [
    "## Пункт в)"
   ]
  },
  {
   "cell_type": "code",
   "execution_count": 39,
   "metadata": {
    "pycharm": {
     "name": "#%%\n"
    }
   },
   "outputs": [
    {
     "name": "stdout",
     "output_type": "stream",
     "text": [
      "2.4212317506247536\n"
     ]
    }
   ],
   "source": [
    "x = zad.iloc[:,1:]\n",
    "y = zad.iloc[:,0]\n",
    "model.fit(x, y)\n",
    "\n",
    "print(model.intercept_ + model.coef_[0]*30 + model.coef_[1]*52.5)"
   ]
  },
  {
   "cell_type": "code",
   "execution_count": 40,
   "metadata": {
    "pycharm": {
     "name": "#%%\n"
    }
   },
   "outputs": [
    {
     "name": "stdout",
     "output_type": "stream",
     "text": [
      "Поскольку модель линейная, то при построении кф по 4 и 5 семье, получаем среднее арифмитическое.\n",
      "0.47123175062475364 4.371231750624753\n"
     ]
    }
   ],
   "source": [
    "print('Поскольку модель линейная, то при построении кф по 4 и 5 семье, получаем среднее арифмитическое.')\n",
    "\n",
    "t_upper = model.intercept_ + model.coef_[0]*30 + model.coef_[1]*52.5+1.95\n",
    "t_lower = model.intercept_ + model.coef_[0]*30 + model.coef_[1]*52.5-1.95\n",
    "print(t_lower, t_upper)"
   ]
  }
 ],
 "metadata": {
  "kernelspec": {
   "display_name": "Python 3",
   "language": "python",
   "name": "python3"
  },
  "language_info": {
   "codemirror_mode": {
    "name": "ipython",
    "version": 3
   },
   "file_extension": ".py",
   "mimetype": "text/x-python",
   "name": "python",
   "nbconvert_exporter": "python",
   "pygments_lexer": "ipython3",
   "version": "3.7.3"
  }
 },
 "nbformat": 4,
 "nbformat_minor": 4
}